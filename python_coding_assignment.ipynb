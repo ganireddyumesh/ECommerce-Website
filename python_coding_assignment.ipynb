{
  "nbformat": 4,
  "nbformat_minor": 0,
  "metadata": {
    "colab": {
      "provenance": [],
      "authorship_tag": "ABX9TyNc+G7zQUEbnXsdmgXB6ilN",
      "include_colab_link": true
    },
    "kernelspec": {
      "name": "python3",
      "display_name": "Python 3"
    },
    "language_info": {
      "name": "python"
    }
  },
  "cells": [
    {
      "cell_type": "markdown",
      "metadata": {
        "id": "view-in-github",
        "colab_type": "text"
      },
      "source": [
        "<a href=\"https://colab.research.google.com/github/ganireddyumesh/ECommerce-Website/blob/main/python_coding_assignment.ipynb\" target=\"_parent\"><img src=\"https://colab.research.google.com/assets/colab-badge.svg\" alt=\"Open In Colab\"/></a>"
      ]
    },
    {
      "cell_type": "code",
      "execution_count": 5,
      "metadata": {
        "colab": {
          "base_uri": "https://localhost:8080/"
        },
        "id": "jZTY2DAHhOiP",
        "outputId": "14c3480b-0b11-4d8f-b1cf-650b629f67c9"
      },
      "outputs": [
        {
          "output_type": "stream",
          "name": "stdout",
          "text": [
            "15\n",
            "25\n",
            "True\n",
            "cherry\n",
            "3.0\n"
          ]
        }
      ],
      "source": [
        "### Section 1: Python Operators and Control Structures\n",
        "\n",
        "# Question 1: Sum of all numbers in a list using a loop\n",
        "\n",
        "def sum_nums(vals):\n",
        "    tot = 0\n",
        "    for n in vals:\n",
        "        tot += n\n",
        "    return tot\n",
        "\n",
        "# Example\n",
        "nums = [1, 2, 3, 4, 5]\n",
        "print(sum_nums(nums))  # Output: 15\n",
        "\n",
        "# Question 2: Exponentiation result\n",
        "x = 5\n",
        "y = 2\n",
        "print(x ** y)  # Output: 25\n",
        "\n",
        "# Question 3: Check if a number is a palindrome\n",
        "\n",
        "def is_pal(num):\n",
        "    orig = num\n",
        "    rev = 0\n",
        "    while num > 0:\n",
        "        d = num % 10\n",
        "        rev = rev * 10 + d\n",
        "        num //= 10\n",
        "    return orig == rev\n",
        "\n",
        "# Example\n",
        "n = 12321\n",
        "print(is_pal(n))  # Output: True\n",
        "\n",
        "# Question 4: Retrieve the last item in a list\n",
        "lst = ['apple', 'banana', 'cherry']\n",
        "print(lst[-1])  # Output: cherry\n",
        "\n",
        "# Question 5: Find the average of numbers in a list\n",
        "\n",
        "def avg(nums):\n",
        "    tot = sum(nums)\n",
        "    return tot / len(nums) if nums else 0\n",
        "\n",
        "# Example\n",
        "vals = [1, 2, 3, 4, 5]\n",
        "print(avg(vals))  # Output: 3.0"
      ]
    }
  ]
}